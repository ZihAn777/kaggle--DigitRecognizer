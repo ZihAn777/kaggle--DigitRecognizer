{
 "cells": [
  {
   "cell_type": "markdown",
   "metadata": {},
   "source": [
    "# kaggle --Digit Recognizer\n",
    "**Reference: https://blog.csdn.net/danspace1/article/details/80631630**\n",
    "\n",
    "**Result: 0.98482**"
   ]
  },
  {
   "cell_type": "markdown",
   "metadata": {},
   "source": [
    "## Summary\n",
    "**Main Techniques**\n",
    "- pca & svm\n",
    "\n",
    "\n",
    "**Packages**\n",
    "- numpy, pandas, matplotlib.pyplot\n",
    "- sklearn.preprocessing : MinMaxScaler  ——归一化\n",
    "- sklearn.model_selection : train_test_split  ——训练数据集划分\n",
    "- sklearn.decomposition : PCA  ——主成分分析（PCA）降维\n",
    "- sklearn : svm : svm.SVC()  ——支持向量机模型\n",
    "- sklearn.model_selection : GridSearchCV  ——网格搜索（GridSerach..）+交叉验证（..CV），调参\n"
   ]
  },
  {
   "cell_type": "markdown",
   "metadata": {},
   "source": [
    "## 1. 基本处理"
   ]
  },
  {
   "cell_type": "markdown",
   "metadata": {},
   "source": [
    "#### 基本的库"
   ]
  },
  {
   "cell_type": "code",
   "execution_count": 1,
   "metadata": {},
   "outputs": [],
   "source": [
    "import numpy as np\n",
    "import pandas as pd\n",
    "import matplotlib.pyplot as plt"
   ]
  },
  {
   "cell_type": "markdown",
   "metadata": {},
   "source": [
    "#### 读入数据"
   ]
  },
  {
   "cell_type": "code",
   "execution_count": 2,
   "metadata": {},
   "outputs": [],
   "source": [
    "# 训练数据\n",
    "train_data = pd.read_csv(\"train.csv\")\n",
    "# 测试数据\n",
    "test_data = pd.read_csv(\"test.csv\")"
   ]
  },
  {
   "cell_type": "markdown",
   "metadata": {},
   "source": [
    "#### 查看数据基本内容"
   ]
  },
  {
   "cell_type": "code",
   "execution_count": 3,
   "metadata": {},
   "outputs": [
    {
     "name": "stdout",
     "output_type": "stream",
     "text": [
      "<class 'pandas.core.frame.DataFrame'>\n",
      "RangeIndex: 42000 entries, 0 to 41999\n",
      "Columns: 785 entries, label to pixel783\n",
      "dtypes: int64(785)\n",
      "memory usage: 251.5 MB\n"
     ]
    },
    {
     "data": {
      "text/plain": [
       "count       785\n",
       "unique        1\n",
       "top       False\n",
       "freq        785\n",
       "dtype: object"
      ]
     },
     "execution_count": 3,
     "metadata": {},
     "output_type": "execute_result"
    }
   ],
   "source": [
    "train_data.info()\n",
    "train_data.isnull().any().describe()"
   ]
  },
  {
   "cell_type": "code",
   "execution_count": 4,
   "metadata": {},
   "outputs": [
    {
     "name": "stdout",
     "output_type": "stream",
     "text": [
      "<class 'pandas.core.frame.DataFrame'>\n",
      "RangeIndex: 28000 entries, 0 to 27999\n",
      "Columns: 784 entries, pixel0 to pixel783\n",
      "dtypes: int64(784)\n",
      "memory usage: 167.5 MB\n"
     ]
    },
    {
     "data": {
      "text/plain": [
       "count       784\n",
       "unique        1\n",
       "top       False\n",
       "freq        784\n",
       "dtype: object"
      ]
     },
     "execution_count": 4,
     "metadata": {},
     "output_type": "execute_result"
    }
   ],
   "source": [
    "test_data.info()\n",
    "test_data.isnull().any().describe()"
   ]
  },
  {
   "cell_type": "markdown",
   "metadata": {},
   "source": [
    "#### 数据拆分"
   ]
  },
  {
   "cell_type": "code",
   "execution_count": 9,
   "metadata": {},
   "outputs": [],
   "source": [
    "# 数据拆分\n",
    "X = train_data.iloc[:, 1:]\n",
    "y = train_data.iloc[:, 0]"
   ]
  },
  {
   "cell_type": "markdown",
   "metadata": {},
   "source": [
    "#### 看数字的pixel图"
   ]
  },
  {
   "cell_type": "code",
   "execution_count": 10,
   "metadata": {},
   "outputs": [
    {
     "data": {
      "image/png": "[encoded data removed]",
      "text/plain": [
       "<Figure size 720x360 with 10 Axes>"
      ]
     },
     "metadata": {
      "needs_background": "light"
     },
     "output_type": "display_data"
    }
   ],
   "source": [
    "plt.figure(figsize=(10,5))\n",
    "\n",
    "for num in range(10):\n",
    "    plt.subplot(2,5,num+1)\n",
    "    grid = X.iloc[num].values.reshape(28,28)\n",
    "    plt.imshow(grid, cmap='Greys')"
   ]
  },
  {
   "cell_type": "markdown",
   "metadata": {},
   "source": [
    "#### 归一化"
   ]
  },
  {
   "cell_type": "code",
   "execution_count": 11,
   "metadata": {},
   "outputs": [],
   "source": [
    "from sklearn.preprocessing import MinMaxScaler"
   ]
  },
  {
   "cell_type": "code",
   "execution_count": 12,
   "metadata": {},
   "outputs": [],
   "source": [
    "# 归一化\n",
    "X = MinMaxScaler().fit_transform(X)\n",
    "test_data = MinMaxScaler().fit_transform(test_data)"
   ]
  },
  {
   "cell_type": "markdown",
   "metadata": {},
   "source": [
    "#### train_data划分训练集、测试集"
   ]
  },
  {
   "cell_type": "code",
   "execution_count": 13,
   "metadata": {},
   "outputs": [],
   "source": [
    "from sklearn.model_selection import train_test_split\n",
    "X_train, X_test, y_train, y_test = train_test_split(X, y, test_size=0.1, random_state=14)"
   ]
  },
  {
   "cell_type": "markdown",
   "metadata": {},
   "source": [
    "## 2. PCA降维"
   ]
  },
  {
   "cell_type": "code",
   "execution_count": 19,
   "metadata": {},
   "outputs": [],
   "source": [
    "from sklearn.decomposition import PCA\n",
    "from sklearn import svm"
   ]
  },
  {
   "cell_type": "markdown",
   "metadata": {},
   "source": [
    "#### 验证需要降到多少维"
   ]
  },
  {
   "cell_type": "code",
   "execution_count": 22,
   "metadata": {},
   "outputs": [
    {
     "name": "stdout",
     "output_type": "stream",
     "text": [
      "0.9728571428571429 0.7\n",
      "0.974047619047619 0.71\n",
      "0.9747619047619047 0.72\n",
      "0.9745238095238096 0.73\n",
      "0.9761904761904762 0.74\n",
      "0.9761904761904762 0.75\n",
      "0.9766666666666667 0.76\n",
      "0.9764285714285714 0.77\n",
      "0.9780952380952381 0.78\n",
      "0.9776190476190476 0.79\n",
      "0.9778571428571429 0.8\n",
      "0.9776190476190476 0.81\n",
      "0.9778571428571429 0.8200000000000001\n",
      "0.9778571428571429 0.8300000000000001\n",
      "0.9788095238095238 0.84\n",
      "0.9785714285714285 0.85\n",
      "0.9788095238095238 0.86\n",
      "0.9783333333333334 0.87\n",
      "0.9776190476190476 0.88\n",
      "0.9780952380952381 0.89\n"
     ]
    }
   ],
   "source": [
    "# 各维数据的准确率集合\n",
    "all_accuracy = []\n",
    "# 测试的维数\n",
    "n_comp = np.linspace(0.7, 0.9, num=20, endpoint=False)\n",
    "\n",
    "def get_accuracy(n, Xtrain, Xtest, ytrain, ytest):\n",
    "    # 数据喂进pca\n",
    "    pca = PCA(n_components=n)\n",
    "    pca.fit(Xtrain)\n",
    "    # 转换维度\n",
    "    Xtrain_pca = pca.transform(Xtrain)\n",
    "    Xtest_pca = pca.transform(Xtest)\n",
    "    # svm分类\n",
    "    cls = svm.SVC()\n",
    "    cls.fit(Xtrain_pca, ytrain)\n",
    "    # 准确度\n",
    "    accuracy = cls.score(Xtest_pca, ytest)\n",
    "    print(accuracy, n)\n",
    "    return accuracy\n",
    "    \n",
    "for n in n_comp:\n",
    "    acc = get_accuracy(n, X_train, X_test, y_train, y_test)\n",
    "    all_accuracy.append(acc)\n",
    "    "
   ]
  },
  {
   "cell_type": "markdown",
   "metadata": {},
   "source": [
    "#### 选择0.86进行降维"
   ]
  },
  {
   "cell_type": "code",
   "execution_count": 24,
   "metadata": {},
   "outputs": [],
   "source": [
    "pca = PCA(n_components=0.86)\n",
    "pca.fit(X)\n",
    "\n",
    "X = pca.transform(X)\n",
    "test_data = pca.transform(test_data)"
   ]
  },
  {
   "cell_type": "markdown",
   "metadata": {},
   "source": [
    "#### 调参"
   ]
  },
  {
   "cell_type": "code",
   "execution_count": 25,
   "metadata": {},
   "outputs": [],
   "source": [
    "from sklearn.model_selection import GridSearchCV"
   ]
  },
  {
   "cell_type": "code",
   "execution_count": 27,
   "metadata": {
    "collapsed": true
   },
   "outputs": [
    {
     "name": "stdout",
     "output_type": "stream",
     "text": [
      "Fitting 5 folds for each of 12 candidates, totalling 60 fits\n",
      "[CV] C=1, kernel=linear ..............................................\n"
     ]
    },
    {
     "name": "stderr",
     "output_type": "stream",
     "text": [
      "[Parallel(n_jobs=1)]: Using backend SequentialBackend with 1 concurrent workers.\n"
     ]
    },
    {
     "name": "stdout",
     "output_type": "stream",
     "text": [
      "[CV] ............................... C=1, kernel=linear, total= 1.1min\n",
      "[CV] C=1, kernel=linear ..............................................\n"
     ]
    },
    {
     "name": "stderr",
     "output_type": "stream",
     "text": [
      "[Parallel(n_jobs=1)]: Done   1 out of   1 | elapsed:  1.1min remaining:    0.0s\n"
     ]
    },
    {
     "name": "stdout",
     "output_type": "stream",
     "text": [
      "[CV] ............................... C=1, kernel=linear, total=  49.5s\n",
      "[CV] C=1, kernel=linear ..............................................\n",
      "[CV] ............................... C=1, kernel=linear, total=  23.0s\n",
      "[CV] C=1, kernel=linear ..............................................\n",
      "[CV] ............................... C=1, kernel=linear, total=  23.7s\n",
      "[CV] C=1, kernel=linear ..............................................\n",
      "[CV] ............................... C=1, kernel=linear, total=  23.3s\n",
      "[CV] C=1, kernel=sigmoid .............................................\n",
      "[CV] .............................. C=1, kernel=sigmoid, total=  26.9s\n",
      "[CV] C=1, kernel=sigmoid .............................................\n",
      "[CV] .............................. C=1, kernel=sigmoid, total=  26.7s\n",
      "[CV] C=1, kernel=sigmoid .............................................\n",
      "[CV] .............................. C=1, kernel=sigmoid, total=  27.0s\n",
      "[CV] C=1, kernel=sigmoid .............................................\n",
      "[CV] .............................. C=1, kernel=sigmoid, total=  27.6s\n",
      "[CV] C=1, kernel=sigmoid .............................................\n",
      "[CV] .............................. C=1, kernel=sigmoid, total=  27.1s\n",
      "[CV] C=1, kernel=rbf .................................................\n",
      "[CV] .................................. C=1, kernel=rbf, total=  26.0s\n",
      "[CV] C=1, kernel=rbf .................................................\n",
      "[CV] .................................. C=1, kernel=rbf, total=  28.4s\n",
      "[CV] C=1, kernel=rbf .................................................\n",
      "[CV] .................................. C=1, kernel=rbf, total=  24.6s\n",
      "[CV] C=1, kernel=rbf .................................................\n",
      "[CV] .................................. C=1, kernel=rbf, total=  24.2s\n",
      "[CV] C=1, kernel=rbf .................................................\n",
      "[CV] .................................. C=1, kernel=rbf, total=  24.5s\n",
      "[CV] C=2, kernel=linear ..............................................\n",
      "[CV] ............................... C=2, kernel=linear, total=  32.0s\n",
      "[CV] C=2, kernel=linear ..............................................\n",
      "[CV] ............................... C=2, kernel=linear, total=  31.6s\n",
      "[CV] C=2, kernel=linear ..............................................\n",
      "[CV] ............................... C=2, kernel=linear, total=  32.4s\n",
      "[CV] C=2, kernel=linear ..............................................\n",
      "[CV] ............................... C=2, kernel=linear, total=  32.8s\n",
      "[CV] C=2, kernel=linear ..............................................\n",
      "[CV] ............................... C=2, kernel=linear, total=  38.6s\n",
      "[CV] C=2, kernel=sigmoid .............................................\n",
      "[CV] .............................. C=2, kernel=sigmoid, total=  25.5s\n",
      "[CV] C=2, kernel=sigmoid .............................................\n",
      "[CV] .............................. C=2, kernel=sigmoid, total=  24.8s\n",
      "[CV] C=2, kernel=sigmoid .............................................\n",
      "[CV] .............................. C=2, kernel=sigmoid, total=  24.6s\n",
      "[CV] C=2, kernel=sigmoid .............................................\n",
      "[CV] .............................. C=2, kernel=sigmoid, total=  25.4s\n",
      "[CV] C=2, kernel=sigmoid .............................................\n",
      "[CV] .............................. C=2, kernel=sigmoid, total=  25.0s\n",
      "[CV] C=2, kernel=rbf .................................................\n",
      "[CV] .................................. C=2, kernel=rbf, total=  23.4s\n",
      "[CV] C=2, kernel=rbf .................................................\n",
      "[CV] .................................. C=2, kernel=rbf, total=  38.3s\n",
      "[CV] C=2, kernel=rbf .................................................\n",
      "[CV] .................................. C=2, kernel=rbf, total=  59.7s\n",
      "[CV] C=2, kernel=rbf .................................................\n",
      "[CV] .................................. C=2, kernel=rbf, total=  58.0s\n",
      "[CV] C=2, kernel=rbf .................................................\n",
      "[CV] .................................. C=2, kernel=rbf, total=  58.3s\n",
      "[CV] C=4, kernel=linear ..............................................\n",
      "[CV] ............................... C=4, kernel=linear, total= 2.1min\n",
      "[CV] C=4, kernel=linear ..............................................\n",
      "[CV] ............................... C=4, kernel=linear, total= 2.1min\n",
      "[CV] C=4, kernel=linear ..............................................\n",
      "[CV] ............................... C=4, kernel=linear, total= 2.0min\n",
      "[CV] C=4, kernel=linear ..............................................\n",
      "[CV] ............................... C=4, kernel=linear, total= 2.1min\n",
      "[CV] C=4, kernel=linear ..............................................\n",
      "[CV] ............................... C=4, kernel=linear, total= 2.1min\n",
      "[CV] C=4, kernel=sigmoid .............................................\n",
      "[CV] .............................. C=4, kernel=sigmoid, total=  59.2s\n",
      "[CV] C=4, kernel=sigmoid .............................................\n",
      "[CV] .............................. C=4, kernel=sigmoid, total=  58.7s\n",
      "[CV] C=4, kernel=sigmoid .............................................\n",
      "[CV] .............................. C=4, kernel=sigmoid, total=  58.7s\n",
      "[CV] C=4, kernel=sigmoid .............................................\n",
      "[CV] .............................. C=4, kernel=sigmoid, total=  59.6s\n",
      "[CV] C=4, kernel=sigmoid .............................................\n",
      "[CV] .............................. C=4, kernel=sigmoid, total=  59.5s\n",
      "[CV] C=4, kernel=rbf .................................................\n",
      "[CV] .................................. C=4, kernel=rbf, total=  57.7s\n",
      "[CV] C=4, kernel=rbf .................................................\n",
      "[CV] .................................. C=4, kernel=rbf, total=  57.6s\n",
      "[CV] C=4, kernel=rbf .................................................\n",
      "[CV] .................................. C=4, kernel=rbf, total=  57.4s\n",
      "[CV] C=4, kernel=rbf .................................................\n",
      "[CV] .................................. C=4, kernel=rbf, total=  57.3s\n",
      "[CV] C=4, kernel=rbf .................................................\n",
      "[CV] .................................. C=4, kernel=rbf, total=  58.8s\n",
      "[CV] C=5, kernel=linear ..............................................\n",
      "[CV] ............................... C=5, kernel=linear, total= 2.5min\n",
      "[CV] C=5, kernel=linear ..............................................\n",
      "[CV] ............................... C=5, kernel=linear, total= 2.9min\n",
      "[CV] C=5, kernel=linear ..............................................\n",
      "[CV] ............................... C=5, kernel=linear, total= 3.1min\n",
      "[CV] C=5, kernel=linear ..............................................\n",
      "[CV] ............................... C=5, kernel=linear, total= 3.3min\n",
      "[CV] C=5, kernel=linear ..............................................\n",
      "[CV] ............................... C=5, kernel=linear, total= 3.1min\n",
      "[CV] C=5, kernel=sigmoid .............................................\n",
      "[CV] .............................. C=5, kernel=sigmoid, total= 1.3min\n",
      "[CV] C=5, kernel=sigmoid .............................................\n",
      "[CV] .............................. C=5, kernel=sigmoid, total= 1.2min\n",
      "[CV] C=5, kernel=sigmoid .............................................\n",
      "[CV] .............................. C=5, kernel=sigmoid, total=  27.2s\n",
      "[CV] C=5, kernel=sigmoid .............................................\n",
      "[CV] .............................. C=5, kernel=sigmoid, total=  23.3s\n",
      "[CV] C=5, kernel=sigmoid .............................................\n",
      "[CV] .............................. C=5, kernel=sigmoid, total=  24.6s\n",
      "[CV] C=5, kernel=rbf .................................................\n",
      "[CV] .................................. C=5, kernel=rbf, total=  26.2s\n",
      "[CV] C=5, kernel=rbf .................................................\n",
      "[CV] .................................. C=5, kernel=rbf, total=  24.3s\n",
      "[CV] C=5, kernel=rbf .................................................\n",
      "[CV] .................................. C=5, kernel=rbf, total=  24.7s\n",
      "[CV] C=5, kernel=rbf .................................................\n",
      "[CV] .................................. C=5, kernel=rbf, total=  25.6s\n",
      "[CV] C=5, kernel=rbf .................................................\n"
     ]
    },
    {
     "name": "stdout",
     "output_type": "stream",
     "text": [
      "[CV] .................................. C=5, kernel=rbf, total=  26.3s\n"
     ]
    },
    {
     "name": "stderr",
     "output_type": "stream",
     "text": [
      "[Parallel(n_jobs=1)]: Done  60 out of  60 | elapsed: 57.4min finished\n"
     ]
    },
    {
     "ename": "AttributeError",
     "evalue": "module 'pandas' has no attribute 'Seried'",
     "output_type": "error",
     "traceback": [
      "\u001b[1;31m---------------------------------------------------------------------------\u001b[0m",
      "\u001b[1;31mAttributeError\u001b[0m                            Traceback (most recent call last)",
      "\u001b[1;32m<ipython-input-27-f74abf0623b7>\u001b[0m in \u001b[0;36m<module>\u001b[1;34m\u001b[0m\n\u001b[0;32m      4\u001b[0m \u001b[1;31m# 预测\u001b[0m\u001b[1;33m\u001b[0m\u001b[1;33m\u001b[0m\u001b[0m\n\u001b[0;32m      5\u001b[0m \u001b[0mpreds\u001b[0m \u001b[1;33m=\u001b[0m \u001b[0mcls_svc\u001b[0m\u001b[1;33m.\u001b[0m\u001b[0mpredict\u001b[0m\u001b[1;33m(\u001b[0m\u001b[0mtest_data\u001b[0m\u001b[1;33m)\u001b[0m\u001b[1;33m\u001b[0m\u001b[0m\n\u001b[1;32m----> 6\u001b[1;33m \u001b[0mimage_id\u001b[0m \u001b[1;33m=\u001b[0m \u001b[0mpd\u001b[0m\u001b[1;33m.\u001b[0m\u001b[0mSeried\u001b[0m\u001b[1;33m(\u001b[0m\u001b[0mrange\u001b[0m\u001b[1;33m(\u001b[0m\u001b[1;36m1\u001b[0m\u001b[1;33m,\u001b[0m \u001b[0mlen\u001b[0m\u001b[1;33m(\u001b[0m\u001b[0mpreds\u001b[0m\u001b[1;33m)\u001b[0m\u001b[1;33m+\u001b[0m\u001b[1;36m1\u001b[0m\u001b[1;33m)\u001b[0m\u001b[1;33m)\u001b[0m\u001b[1;33m\u001b[0m\u001b[0m\n\u001b[0m\u001b[0;32m      7\u001b[0m \u001b[0mres\u001b[0m \u001b[1;33m=\u001b[0m \u001b[0mpd\u001b[0m\u001b[1;33m.\u001b[0m\u001b[0mDataframe\u001b[0m\u001b[1;33m(\u001b[0m\u001b[1;33m{\u001b[0m\u001b[1;34m'ImageID'\u001b[0m\u001b[1;33m:\u001b[0m\u001b[0mimage_id\u001b[0m\u001b[1;33m,\u001b[0m \u001b[1;34m'Label'\u001b[0m\u001b[1;33m:\u001b[0m\u001b[0mpreds\u001b[0m\u001b[1;33m}\u001b[0m\u001b[1;33m)\u001b[0m\u001b[1;33m\u001b[0m\u001b[0m\n\u001b[0;32m      8\u001b[0m \u001b[1;31m# 保存\u001b[0m\u001b[1;33m\u001b[0m\u001b[1;33m\u001b[0m\u001b[0m\n",
      "\u001b[1;32mD:\\Anaconda\\envs\\tensorflow\\lib\\site-packages\\pandas\\__init__.py\u001b[0m in \u001b[0;36m__getattr__\u001b[1;34m(name)\u001b[0m\n\u001b[0;32m    261\u001b[0m             \u001b[1;32mreturn\u001b[0m \u001b[0m_SparseArray\u001b[0m\u001b[1;33m\u001b[0m\u001b[0m\n\u001b[0;32m    262\u001b[0m \u001b[1;33m\u001b[0m\u001b[0m\n\u001b[1;32m--> 263\u001b[1;33m         \u001b[1;32mraise\u001b[0m \u001b[0mAttributeError\u001b[0m\u001b[1;33m(\u001b[0m\u001b[1;34mf\"module 'pandas' has no attribute '{name}'\"\u001b[0m\u001b[1;33m)\u001b[0m\u001b[1;33m\u001b[0m\u001b[0m\n\u001b[0m\u001b[0;32m    264\u001b[0m \u001b[1;33m\u001b[0m\u001b[0m\n\u001b[0;32m    265\u001b[0m \u001b[1;33m\u001b[0m\u001b[0m\n",
      "\u001b[1;31mAttributeError\u001b[0m: module 'pandas' has no attribute 'Seried'"
     ]
    }
   ],
   "source": [
    "cls_svc = GridSearchCV(estimator=svm.SVC(), param_grid={'C':[1,2,4,5], 'kernel':['linear','sigmoid','rbf']}, cv=5, verbose=2)\n",
    "cls_svc.fit(X,y)\n",
    "\n",
    "# 预测\n",
    "preds = cls_svc.predict(test_data)"
   ]
  },
  {
   "cell_type": "markdown",
   "metadata": {},
   "source": [
    "**SVM Conclusion**\n",
    "\n",
    "1. 调参 -- GridSearchCV\n",
    "2. 训练 -- model.fit(X,y)\n",
    "3. 预测 -- model.predict(test)"
   ]
  },
  {
   "cell_type": "markdown",
   "metadata": {},
   "source": [
    "**PCA Conclusion**\n",
    "1. 选参数 -- n_componets...\n",
    "2. 训练 -- pca.fit(X)\n",
    "3. 转换X -- X_pca=pca.transform(X)"
   ]
  },
  {
   "cell_type": "markdown",
   "metadata": {},
   "source": [
    "**GridSearchCV**\n",
    "- cv=5: 使用5折交叉验证（默认为3折，一般3/5/10）\n",
    "- estimator=svm.SVC(): 使用SVC分类器\n",
    "- verbose: 日志冗长度\n",
    "- para_grid: 需要最优化的参数，为字典或列表\n",
    "\n",
    "\n",
    "**Recap**\n",
    "- C：越大越容易过拟合；越小允许误差\n",
    "- // ps. lambda：越小越容易过拟合；越大允许误差\n",
    "- kernel：核函数（linear, sigmoid, rbf, ...）  # rbf就是gaussian核函数 --RBF(Radial basis function kernel高斯径向基函数)"
   ]
  },
  {
   "cell_type": "code",
   "execution_count": 35,
   "metadata": {},
   "outputs": [
    {
     "name": "stdout",
     "output_type": "stream",
     "text": [
      "Done\n"
     ]
    }
   ],
   "source": [
    "image_id = pd.Series(range(1, len(preds)+1))\n",
    "res = pd.DataFrame({'ImageID':image_id, 'Label':preds})\n",
    "# 保存\n",
    "res.to_csv(\"final_pca&svm.csv\", index=False)\n",
    "print('Done')"
   ]
  },
  {
   "cell_type": "markdown",
   "metadata": {},
   "source": [
    "## 验证"
   ]
  },
  {
   "cell_type": "markdown",
   "metadata": {},
   "source": [
    "#### fff.csv"
   ]
  },
  {
   "cell_type": "code",
   "execution_count": 36,
   "metadata": {},
   "outputs": [
    {
     "data": {
      "text/html": [
       "<div>\n",
       "<style scoped>\n",
       "    .dataframe tbody tr th:only-of-type {\n",
       "        vertical-align: middle;\n",
       "    }\n",
       "\n",
       "    .dataframe tbody tr th {\n",
       "        vertical-align: top;\n",
       "    }\n",
       "\n",
       "    .dataframe thead th {\n",
       "        text-align: right;\n",
       "    }\n",
       "</style>\n",
       "<table border=\"1\" class=\"dataframe\">\n",
       "  <thead>\n",
       "    <tr style=\"text-align: right;\">\n",
       "      <th></th>\n",
       "      <th>ImageID</th>\n",
       "      <th>Label</th>\n",
       "    </tr>\n",
       "  </thead>\n",
       "  <tbody>\n",
       "    <tr>\n",
       "      <th>0</th>\n",
       "      <td>1</td>\n",
       "      <td>2</td>\n",
       "    </tr>\n",
       "    <tr>\n",
       "      <th>1</th>\n",
       "      <td>2</td>\n",
       "      <td>0</td>\n",
       "    </tr>\n",
       "    <tr>\n",
       "      <th>2</th>\n",
       "      <td>3</td>\n",
       "      <td>9</td>\n",
       "    </tr>\n",
       "    <tr>\n",
       "      <th>3</th>\n",
       "      <td>4</td>\n",
       "      <td>9</td>\n",
       "    </tr>\n",
       "    <tr>\n",
       "      <th>4</th>\n",
       "      <td>5</td>\n",
       "      <td>3</td>\n",
       "    </tr>\n",
       "    <tr>\n",
       "      <th>5</th>\n",
       "      <td>6</td>\n",
       "      <td>7</td>\n",
       "    </tr>\n",
       "    <tr>\n",
       "      <th>6</th>\n",
       "      <td>7</td>\n",
       "      <td>0</td>\n",
       "    </tr>\n",
       "    <tr>\n",
       "      <th>7</th>\n",
       "      <td>8</td>\n",
       "      <td>3</td>\n",
       "    </tr>\n",
       "    <tr>\n",
       "      <th>8</th>\n",
       "      <td>9</td>\n",
       "      <td>0</td>\n",
       "    </tr>\n",
       "    <tr>\n",
       "      <th>9</th>\n",
       "      <td>10</td>\n",
       "      <td>3</td>\n",
       "    </tr>\n",
       "  </tbody>\n",
       "</table>\n",
       "</div>"
      ],
      "text/plain": [
       "   ImageID  Label\n",
       "0        1      2\n",
       "1        2      0\n",
       "2        3      9\n",
       "3        4      9\n",
       "4        5      3\n",
       "5        6      7\n",
       "6        7      0\n",
       "7        8      3\n",
       "8        9      0\n",
       "9       10      3"
      ]
     },
     "execution_count": 36,
     "metadata": {},
     "output_type": "execute_result"
    }
   ],
   "source": [
    "final_res = pd.read_csv(\"final_pca&svm.csv\")\n",
    "final_res.head(10)"
   ]
  },
  {
   "cell_type": "markdown",
   "metadata": {},
   "source": [
    "#### test.csv"
   ]
  },
  {
   "cell_type": "code",
   "execution_count": 31,
   "metadata": {},
   "outputs": [
    {
     "data": {
      "image/png": "[encoded data removed]",
      "text/plain": [
       "<Figure size 720x360 with 10 Axes>"
      ]
     },
     "metadata": {
      "needs_background": "light"
     },
     "output_type": "display_data"
    }
   ],
   "source": [
    "test = pd.read_csv(\"test.csv\")\n",
    "\n",
    "plt.figure(figsize=(10,5))\n",
    "for num in range(10):\n",
    "    plt.subplot(2,5,num+1)\n",
    "    grid = test.iloc[num].values.reshape(28,28)\n",
    "    plt.imshow(grid, cmap='Greys')"
   ]
  }
 ],
 "metadata": {
  "kernelspec": {
   "display_name": "Python [conda env:tensorflow]",
   "language": "python",
   "name": "conda-env-tensorflow-py"
  },
  "language_info": {
   "codemirror_mode": {
    "name": "ipython",
    "version": 3
   },
   "file_extension": ".py",
   "mimetype": "text/x-python",
   "name": "python",
   "nbconvert_exporter": "python",
   "pygments_lexer": "ipython3",
   "version": "3.7.0"
  }
 },
 "nbformat": 4,
 "nbformat_minor": 2
}
